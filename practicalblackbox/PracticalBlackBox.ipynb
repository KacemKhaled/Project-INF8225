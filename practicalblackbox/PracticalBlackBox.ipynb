{
  "nbformat": 4,
  "nbformat_minor": 0,
  "metadata": {
    "colab": {
      "name": "PracticalBlackBox.ipynb",
      "provenance": [],
      "collapsed_sections": []
    },
    "kernelspec": {
      "name": "python3",
      "display_name": "Python 3"
    }
  },
  "cells": [
    {
      "cell_type": "markdown",
      "metadata": {
        "id": "-e80tJlX0oG1",
        "colab_type": "text"
      },
      "source": [
        "# Project INF8225: tutorial\n",
        "**Practical Black-Box Attacks against Machine Learning** \n",
        "\n",
        "This part presents the efforts done to reproduce the results of the paper and the additional work by our team.\n",
        "\n",
        "**Challenges faced:**\n",
        "*   A large challenge we faced was getting the environment set up to be able to run the code. As mentioned in below sections, there were several instructions that the developers had given that simply did not work for us. We ran into several errors including (but not limited to) dependency issues, version incompatibilities, library deprecations, etc. It was with a great amount of trial and error that we managed to run our experiments.\n",
        "*   We also attempted to change the code to be able to run it on different models and datasets of choice, but this also produced many errors like those mentioned above. There was also the issue of the code being very tightly coupled that it would have required a large amount of refactoring to get it working cleanly.\n",
        "*   Another issue we faced was low performance when running the code. For our experiments we had to choose the parameters with great care to ensure that we were passing realistic values that our hardware would be able to run. Several times, attempting to run some commands would leave execution running for a very long time, with no visible end to the training. In these cases, we would need to manually abort the command and try something else.\n"
      ]
    },
    {
      "cell_type": "markdown",
      "metadata": {
        "id": "Iu5t2CEs1sMy",
        "colab_type": "text"
      },
      "source": [
        "# Steps\n",
        "**Note:** we tested this in both MacOS, Windows, and Ubuntu, and we were able to get it running in all three. \n",
        "\n",
        "## Set Up the Anaconda Environment\n",
        "*   We recommend using Anaconda to simplify the set up process\n",
        "(https://conda.io/projects/conda/en/latest/user-guide/install/)\n",
        "\n",
        "*   Create a new conda environment with Tensorflow. The authors recommend a combination of Python 3.5 and TensorFlow {1.8, 1.12}. However, that didn't work for us and instead, we were able to get it working with the following configurations:\n",
        "  *   Python 2.7 and Tensorflow 1.15\n",
        "  ```\n",
        "  $ conda create -n <env-name> tensorflow=1.15 python=2.7\n",
        "  ```\n",
        "  *   Python 3.8 and Tensorflow 1.15\n",
        "  ```\n",
        "  $ conda create -n <env-name tensorflow=1.15 python=2.7\n",
        "  ```\n",
        "\n",
        " *(The authors also suggested to install Tensorflow with GPU support, but that also didn't work for us. Both configurations that we tried are the regular CPU versions of Tensorflow.)*\n",
        "\n",
        "*   Activate the chosen environment:\n",
        "  ```\n",
        "  $ conda activate <env-name>\n",
        "  ```\n",
        "\n",
        "## Set Up the Cleverhans Code\n",
        "\n",
        "There are several ways to set up the environment. Your options:\n",
        "\n",
        "1.   Use pip to install the latest version that the authors uploaded to Pypi:\n",
        "  ```\n",
        "  $ pip install cleverhans\n",
        "  ```\n",
        "2.   Use pip to install the latest version that the authors uploaded to Pypi *(bleeding edge)*:\n",
        "  ```\n",
        "  $ pip install git+https://github.com/tensorflow/cleverhans.git#egg=cleverhans\n",
        "  ```\n",
        "3.   If you plan on making changes, fork the original repository from : https://github.com/tensorflow/cleverhans, then install the package locally. Our forked repository is on this link: https://github.com/miramarhaba/cleverhans\n",
        "  ```\n",
        "  $ git clone https://github.com/miramarhaba/cleverhans.git\n",
        "  $ cd cleverhans\n",
        "  $ pip install -e .\n",
        "  ```\n",
        "\n",
        "*(Please note that methods #1 and #3 did not work well for us. Each time we attempted them, we got several dependency and versioning errors during installation and execution. The method that worked best for us was #2).*\n",
        "\n",
        "## Execution and Experiments\n",
        "\n",
        "*   Navigate to your local cloned Cleverhans repository (either the clone of your forked version, or a clone of the original repository).\n",
        "  ```\n",
        "  $ cd cleverhans/cleverhans_tutorials\n",
        "  ```\n",
        "\n",
        "*   The cleverhans_tutorials directory contains several examples developed/maintained by the authors of the article and some developers from the Github community. For the purposes of this project, we used the mnist_blackbox example.\n",
        "  ```\n",
        "  $ python mnist_blackbox.py\n",
        "  ```\n",
        "\n",
        "*   You can customize different parameters in the run by adding them to the command, to override their defaults. Some examples:\n",
        "  ```\n",
        "  $ python mnist_blackbox.py --learning_rate 0.1\n",
        "  $ python mnist_blackbox.py --holdout 150\n",
        "  $ python mnist_blackbox.py --lmbda 0.1\n",
        "  ```\n",
        "\n",
        "*   To be more specific, we played with the following flags in our experiments:\n",
        " *   *--learning_rate*\n",
        " *   *--batch_size*\n",
        " *   *--nb_epochs*\n",
        " *   *--nb_epochs_s*\n",
        " *   *--data_aug*"
      ]
    }
  ]
}