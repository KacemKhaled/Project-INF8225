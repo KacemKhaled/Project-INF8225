{
  "nbformat": 4,
  "nbformat_minor": 0,
  "metadata": {
    "colab": {
      "name": "KnockoffNets",
      "provenance": [],
      "collapsed_sections": []
    },
    "kernelspec": {
      "name": "python3",
      "display_name": "Python 3"
    }
  },
  "cells": [
    {
      "cell_type": "markdown",
      "metadata": {
        "id": "-e80tJlX0oG1",
        "colab_type": "text"
      },
      "source": [
        "# Project INF8225: tutorial\n",
        "**Knockoff Nets: Stealing Functionality of Black-Box Models, CVPR '19** \n",
        "\n",
        "This part presents the efforts done to reproduce the results of the paper and the additional work by our team.\n",
        "\n",
        "**Challenges faced:** Although the authors provide a Github repository with their code, the reproduction of the results tooks us a lot of time (weeks) since the attacks are against complex models (ResNet-38, VGG-16,..) and the datasets are huge. The Readme written does not provide enough information and requires a good knowledge and experience in deep learning programming.\n",
        "\n",
        "The forked repository for the project is on this link: https://github.com/KacemKhaled/knockoffnets\n"
      ]
    },
    {
      "cell_type": "markdown",
      "metadata": {
        "id": "Iu5t2CEs1sMy",
        "colab_type": "text"
      },
      "source": [
        "# Environment Preparation\n",
        "**Disclaimer:** if you are using Windows, you may not be able to prepare the environment, we tried that for a while and it only lead us to *Errors Land*! So save your time and use Linux. In our case, we used Ubuntu 16.04.\n",
        "\n",
        "#### Before you start: Setting up the GPU\n",
        "The process to install the CUDA driver on Linux is complicated and time consuming, but it is worth it to gain more time in the future instead of working on the CPU. \n",
        "\n",
        "We have followed this tutorial: https://docs.nvidia.com/cuda/cuda-installation-guide-linux/index.html\n",
        "\n",
        "\n",
        "## Steps \n",
        "\n",
        "\n",
        "*   Fork the original repository from : https://github.com/tribhuvanesh/knockoffnets, our forked repository is on this link: https://github.com/KacemKhaled/knockoffnets\n",
        "*   Clone it into your own machine: \n",
        "\n",
        "```\n",
        "$ git clone https://github.com/KacemKhaled/knockoffnets.git\n",
        "```\n",
        "*   If you don't have Anaconda installed, it would be better to install it (https://conda.io/projects/conda/en/latest/user-guide/install/linux.html)\n",
        "*   Go to the repository and execute \n",
        "\n",
        "```\n",
        "$ conda env create -f environment.yml\n",
        "```\n",
        "\n",
        "*   This should install all the requirements and create a conda enivornment, to start working in the project you should activate the environment (named \"knockoff\") using this command:\n",
        "\n",
        "```\n",
        "$ conda activate knockoff\n",
        "```\n"
      ]
    },
    {
      "cell_type": "markdown",
      "metadata": {
        "id": "VlEdm-35R9MP",
        "colab_type": "text"
      },
      "source": [
        "# Experiments\n",
        "\n",
        "### Attack: Overview\n",
        "\n",
        "Following the content of the Readme Page the commands/steps provided will guide you to:\n",
        "\n",
        "1. Train victim models (or download pretrained ResNet-34 models)\n",
        "2. Train knockoff models (or download pretrained ResNet-34 models)\n",
        "  * Constructing transfer sets\n",
        "  * Training knockoff models\n",
        "\n",
        "The framework provided by the authors is rich with predefined commands to run most of the experiments and reproduce them. However, training complicated architectures need a lot of GPU time. So we decided to reproduce the steps once for only one victim with different architecture to assess the expandability of the attacks.\n",
        "\n",
        "### 1. Training Victim model\n",
        "We have chosen a Resnet-18 architecture instead of Resnet-34 to train the victim model on CUBS200 dataset.\n",
        "\n",
        "```\n",
        "# Format:\n",
        "$ python -m \"knockoff.victim.train\" DS_NAME ARCH -d DEV_ID \\\n",
        "        -o models/victim/VIC_DIR -e EPOCHS --pretrained\n",
        "# where DS_NAME = {cubs200, caltech256, ...}, ARCH = {resnet18, vgg16, densenet161, ...}\n",
        "# if the machine contains multiple GPUs, DEV_ID specifies which GPU to use\n",
        "\n",
        "# We run this command\n",
        "$ python -m \"knockoff.victim.train\" CUBS200 resnet18 -d 0 \\\n",
        "        -o models/victim/cubs200-resnet18 -e 10 --log-interval 25 \\\n",
        "        --pretrained imagenet\n",
        "```\n",
        "(we added the output files to the github repository in the folder ./files/victim/cubs200-resnet18):\n",
        "\n"
      ]
    },
    {
      "cell_type": "code",
      "metadata": {
        "id": "VFKFtQ-lhH_N",
        "colab_type": "code",
        "colab": {
          "base_uri": "https://localhost:8080/",
          "height": 34
        },
        "outputId": "46a6486d-54ba-4ad7-9581-4fb4c63ceee8"
      },
      "source": [
        "from google.colab import drive\n",
        "drive.mount('/content/drive')"
      ],
      "execution_count": 170,
      "outputs": [
        {
          "output_type": "stream",
          "text": [
            "Drive already mounted at /content/drive; to attempt to forcibly remount, call drive.mount(\"/content/drive\", force_remount=True).\n"
          ],
          "name": "stdout"
        }
      ]
    },
    {
      "cell_type": "code",
      "metadata": {
        "id": "WOKEbUx2hJle",
        "colab_type": "code",
        "colab": {}
      },
      "source": [
        "import pandas as pd\n",
        "\n",
        "PATH = \"drive/My Drive/1 Polymtl/Hiv20/INF8225/Project/\" # change the path to the folder \"files\"\n",
        "logs = pd.read_csv(PATH + \"train.log.tsv\", sep='\\t')\n",
        "train_logs = logs.loc[logs['split']=='train'].reset_index(drop=True)\n",
        "test_logs = logs.loc[logs['split']=='test'].reset_index(drop=True)"
      ],
      "execution_count": 0,
      "outputs": []
    },
    {
      "cell_type": "code",
      "metadata": {
        "id": "SamlPbXPiO0e",
        "colab_type": "code",
        "colab": {
          "base_uri": "https://localhost:8080/",
          "height": 359
        },
        "outputId": "7d738db2-b99f-4864-a106-f1e0a2e093f6"
      },
      "source": [
        "train_logs"
      ],
      "execution_count": 172,
      "outputs": [
        {
          "output_type": "execute_result",
          "data": {
            "text/html": [
              "<div>\n",
              "<style scoped>\n",
              "    .dataframe tbody tr th:only-of-type {\n",
              "        vertical-align: middle;\n",
              "    }\n",
              "\n",
              "    .dataframe tbody tr th {\n",
              "        vertical-align: top;\n",
              "    }\n",
              "\n",
              "    .dataframe thead th {\n",
              "        text-align: right;\n",
              "    }\n",
              "</style>\n",
              "<table border=\"1\" class=\"dataframe\">\n",
              "  <thead>\n",
              "    <tr style=\"text-align: right;\">\n",
              "      <th></th>\n",
              "      <th>run_id</th>\n",
              "      <th>epoch</th>\n",
              "      <th>split</th>\n",
              "      <th>loss</th>\n",
              "      <th>accuracy</th>\n",
              "      <th>best_accuracy</th>\n",
              "    </tr>\n",
              "  </thead>\n",
              "  <tbody>\n",
              "    <tr>\n",
              "      <th>0</th>\n",
              "      <td>2020-04-25 19:06:02.007020</td>\n",
              "      <td>1</td>\n",
              "      <td>train</td>\n",
              "      <td>0.061053</td>\n",
              "      <td>16.349683</td>\n",
              "      <td>16.349683</td>\n",
              "    </tr>\n",
              "    <tr>\n",
              "      <th>1</th>\n",
              "      <td>2020-04-25 19:06:02.007020</td>\n",
              "      <td>2</td>\n",
              "      <td>train</td>\n",
              "      <td>0.037798</td>\n",
              "      <td>39.189189</td>\n",
              "      <td>39.189189</td>\n",
              "    </tr>\n",
              "    <tr>\n",
              "      <th>2</th>\n",
              "      <td>2020-04-25 19:06:02.007020</td>\n",
              "      <td>3</td>\n",
              "      <td>train</td>\n",
              "      <td>0.031709</td>\n",
              "      <td>47.664331</td>\n",
              "      <td>47.664331</td>\n",
              "    </tr>\n",
              "    <tr>\n",
              "      <th>3</th>\n",
              "      <td>2020-04-25 19:06:02.007020</td>\n",
              "      <td>4</td>\n",
              "      <td>train</td>\n",
              "      <td>0.027583</td>\n",
              "      <td>54.154154</td>\n",
              "      <td>54.154154</td>\n",
              "    </tr>\n",
              "    <tr>\n",
              "      <th>4</th>\n",
              "      <td>2020-04-25 19:06:02.007020</td>\n",
              "      <td>5</td>\n",
              "      <td>train</td>\n",
              "      <td>0.025004</td>\n",
              "      <td>57.991325</td>\n",
              "      <td>57.991325</td>\n",
              "    </tr>\n",
              "    <tr>\n",
              "      <th>5</th>\n",
              "      <td>2020-04-25 19:06:02.007020</td>\n",
              "      <td>6</td>\n",
              "      <td>train</td>\n",
              "      <td>0.023533</td>\n",
              "      <td>60.477144</td>\n",
              "      <td>60.477144</td>\n",
              "    </tr>\n",
              "    <tr>\n",
              "      <th>6</th>\n",
              "      <td>2020-04-25 19:06:02.007020</td>\n",
              "      <td>7</td>\n",
              "      <td>train</td>\n",
              "      <td>0.022039</td>\n",
              "      <td>62.929596</td>\n",
              "      <td>62.929596</td>\n",
              "    </tr>\n",
              "    <tr>\n",
              "      <th>7</th>\n",
              "      <td>2020-04-25 19:06:02.007020</td>\n",
              "      <td>8</td>\n",
              "      <td>train</td>\n",
              "      <td>0.020205</td>\n",
              "      <td>65.565566</td>\n",
              "      <td>65.565566</td>\n",
              "    </tr>\n",
              "    <tr>\n",
              "      <th>8</th>\n",
              "      <td>2020-04-25 19:06:02.007020</td>\n",
              "      <td>9</td>\n",
              "      <td>train</td>\n",
              "      <td>0.020203</td>\n",
              "      <td>66.016016</td>\n",
              "      <td>66.016016</td>\n",
              "    </tr>\n",
              "    <tr>\n",
              "      <th>9</th>\n",
              "      <td>2020-04-25 19:06:02.007020</td>\n",
              "      <td>10</td>\n",
              "      <td>train</td>\n",
              "      <td>0.018603</td>\n",
              "      <td>68.735402</td>\n",
              "      <td>68.735402</td>\n",
              "    </tr>\n",
              "  </tbody>\n",
              "</table>\n",
              "</div>"
            ],
            "text/plain": [
              "                       run_id  epoch  split      loss   accuracy  best_accuracy\n",
              "0  2020-04-25 19:06:02.007020      1  train  0.061053  16.349683      16.349683\n",
              "1  2020-04-25 19:06:02.007020      2  train  0.037798  39.189189      39.189189\n",
              "2  2020-04-25 19:06:02.007020      3  train  0.031709  47.664331      47.664331\n",
              "3  2020-04-25 19:06:02.007020      4  train  0.027583  54.154154      54.154154\n",
              "4  2020-04-25 19:06:02.007020      5  train  0.025004  57.991325      57.991325\n",
              "5  2020-04-25 19:06:02.007020      6  train  0.023533  60.477144      60.477144\n",
              "6  2020-04-25 19:06:02.007020      7  train  0.022039  62.929596      62.929596\n",
              "7  2020-04-25 19:06:02.007020      8  train  0.020205  65.565566      65.565566\n",
              "8  2020-04-25 19:06:02.007020      9  train  0.020203  66.016016      66.016016\n",
              "9  2020-04-25 19:06:02.007020     10  train  0.018603  68.735402      68.735402"
            ]
          },
          "metadata": {
            "tags": []
          },
          "execution_count": 172
        }
      ]
    },
    {
      "cell_type": "code",
      "metadata": {
        "id": "pnH9HkvE16V9",
        "colab_type": "code",
        "colab": {
          "base_uri": "https://localhost:8080/",
          "height": 359
        },
        "outputId": "b21c4a8c-3045-4624-c402-8cb6c9aa2566"
      },
      "source": [
        "test_logs"
      ],
      "execution_count": 173,
      "outputs": [
        {
          "output_type": "execute_result",
          "data": {
            "text/html": [
              "<div>\n",
              "<style scoped>\n",
              "    .dataframe tbody tr th:only-of-type {\n",
              "        vertical-align: middle;\n",
              "    }\n",
              "\n",
              "    .dataframe tbody tr th {\n",
              "        vertical-align: top;\n",
              "    }\n",
              "\n",
              "    .dataframe thead th {\n",
              "        text-align: right;\n",
              "    }\n",
              "</style>\n",
              "<table border=\"1\" class=\"dataframe\">\n",
              "  <thead>\n",
              "    <tr style=\"text-align: right;\">\n",
              "      <th></th>\n",
              "      <th>run_id</th>\n",
              "      <th>epoch</th>\n",
              "      <th>split</th>\n",
              "      <th>loss</th>\n",
              "      <th>accuracy</th>\n",
              "      <th>best_accuracy</th>\n",
              "    </tr>\n",
              "  </thead>\n",
              "  <tbody>\n",
              "    <tr>\n",
              "      <th>0</th>\n",
              "      <td>2020-04-25 19:06:02.007020</td>\n",
              "      <td>1</td>\n",
              "      <td>test</td>\n",
              "      <td>0.048214</td>\n",
              "      <td>26.630998</td>\n",
              "      <td>26.630998</td>\n",
              "    </tr>\n",
              "    <tr>\n",
              "      <th>1</th>\n",
              "      <td>2020-04-25 19:06:02.007020</td>\n",
              "      <td>2</td>\n",
              "      <td>test</td>\n",
              "      <td>0.039005</td>\n",
              "      <td>36.727649</td>\n",
              "      <td>36.727649</td>\n",
              "    </tr>\n",
              "    <tr>\n",
              "      <th>2</th>\n",
              "      <td>2020-04-25 19:06:02.007020</td>\n",
              "      <td>3</td>\n",
              "      <td>test</td>\n",
              "      <td>0.032614</td>\n",
              "      <td>44.787711</td>\n",
              "      <td>44.787711</td>\n",
              "    </tr>\n",
              "    <tr>\n",
              "      <th>3</th>\n",
              "      <td>2020-04-25 19:06:02.007020</td>\n",
              "      <td>4</td>\n",
              "      <td>test</td>\n",
              "      <td>0.034341</td>\n",
              "      <td>42.958233</td>\n",
              "      <td>44.787711</td>\n",
              "    </tr>\n",
              "    <tr>\n",
              "      <th>4</th>\n",
              "      <td>2020-04-25 19:06:02.007020</td>\n",
              "      <td>5</td>\n",
              "      <td>test</td>\n",
              "      <td>0.034713</td>\n",
              "      <td>44.943045</td>\n",
              "      <td>44.943045</td>\n",
              "    </tr>\n",
              "    <tr>\n",
              "      <th>5</th>\n",
              "      <td>2020-04-25 19:06:02.007020</td>\n",
              "      <td>6</td>\n",
              "      <td>test</td>\n",
              "      <td>0.028313</td>\n",
              "      <td>53.348291</td>\n",
              "      <td>53.348291</td>\n",
              "    </tr>\n",
              "    <tr>\n",
              "      <th>6</th>\n",
              "      <td>2020-04-25 19:06:02.007020</td>\n",
              "      <td>7</td>\n",
              "      <td>test</td>\n",
              "      <td>0.028577</td>\n",
              "      <td>54.055920</td>\n",
              "      <td>54.055920</td>\n",
              "    </tr>\n",
              "    <tr>\n",
              "      <th>7</th>\n",
              "      <td>2020-04-25 19:06:02.007020</td>\n",
              "      <td>8</td>\n",
              "      <td>test</td>\n",
              "      <td>0.028043</td>\n",
              "      <td>52.364515</td>\n",
              "      <td>54.055920</td>\n",
              "    </tr>\n",
              "    <tr>\n",
              "      <th>8</th>\n",
              "      <td>2020-04-25 19:06:02.007020</td>\n",
              "      <td>9</td>\n",
              "      <td>test</td>\n",
              "      <td>0.027822</td>\n",
              "      <td>55.522955</td>\n",
              "      <td>55.522955</td>\n",
              "    </tr>\n",
              "    <tr>\n",
              "      <th>9</th>\n",
              "      <td>2020-04-25 19:06:02.007020</td>\n",
              "      <td>10</td>\n",
              "      <td>test</td>\n",
              "      <td>0.032350</td>\n",
              "      <td>49.447705</td>\n",
              "      <td>55.522955</td>\n",
              "    </tr>\n",
              "  </tbody>\n",
              "</table>\n",
              "</div>"
            ],
            "text/plain": [
              "                       run_id  epoch split      loss   accuracy  best_accuracy\n",
              "0  2020-04-25 19:06:02.007020      1  test  0.048214  26.630998      26.630998\n",
              "1  2020-04-25 19:06:02.007020      2  test  0.039005  36.727649      36.727649\n",
              "2  2020-04-25 19:06:02.007020      3  test  0.032614  44.787711      44.787711\n",
              "3  2020-04-25 19:06:02.007020      4  test  0.034341  42.958233      44.787711\n",
              "4  2020-04-25 19:06:02.007020      5  test  0.034713  44.943045      44.943045\n",
              "5  2020-04-25 19:06:02.007020      6  test  0.028313  53.348291      53.348291\n",
              "6  2020-04-25 19:06:02.007020      7  test  0.028577  54.055920      54.055920\n",
              "7  2020-04-25 19:06:02.007020      8  test  0.028043  52.364515      54.055920\n",
              "8  2020-04-25 19:06:02.007020      9  test  0.027822  55.522955      55.522955\n",
              "9  2020-04-25 19:06:02.007020     10  test  0.032350  49.447705      55.522955"
            ]
          },
          "metadata": {
            "tags": []
          },
          "execution_count": 173
        }
      ]
    },
    {
      "cell_type": "code",
      "metadata": {
        "id": "SeCfJtiBgYaL",
        "colab_type": "code",
        "colab": {
          "base_uri": "https://localhost:8080/",
          "height": 564
        },
        "outputId": "ce0f17d1-6c4d-4d3d-c08f-3545f228fa66"
      },
      "source": [
        "import matplotlib.pyplot as plt\n",
        "\n",
        "# collect and plot the losses for the training and test sets\n",
        "accuracy = train_logs['accuracy']\n",
        "loss = train_logs[ 'loss']\n",
        "test_accuracy = test_logs['accuracy']\n",
        "test_loss = test_logs['loss']\n",
        "epoch = train_logs['epoch']\n",
        "\n",
        "plt.figure()\n",
        "plt.plot(loss, label=\"train\")\n",
        "plt.plot(test_loss, label=\"test\")\n",
        "plt.title('Training curve Loss / Epochs')\n",
        "plt.ylabel('Negative Likelihood Loss')\n",
        "plt.xlabel('Epoch')\n",
        "plt.legend(loc='best')\n",
        "plt.show()\n",
        "\n",
        "plt.figure(figsize=(4, 3.2))\n",
        "plt.plot(epoch,accuracy, label=\"Victim train on CUBS200\")\n",
        "plt.plot(epoch,test_accuracy, label=\"Victim test on CUBS200\")\n",
        "plt.title('Training curve Accuracy / Epochs')\n",
        "plt.ylabel('Accuracy')\n",
        "plt.xlabel('Epoch')\n",
        "plt.xticks(epoch)\n",
        "plt.legend(loc='best')\n",
        "plt.grid(b=True, which='major', color='#666666', linestyle='dashed')\n",
        "plt.minorticks_on()\n",
        "plt.grid(b=True, which='minor', color='#999999', linestyle='dashed',axis='y')\n",
        "plt.savefig(PATH+\"victim-resnet-18.eps\",format=\"eps\")\n",
        "plt.show()"
      ],
      "execution_count": 174,
      "outputs": [
        {
          "output_type": "display_data",
          "data": {
            "image/png": "[encoded data removed]",
            "text/plain": [
              "<Figure size 432x288 with 1 Axes>"
            ]
          },
          "metadata": {
            "tags": [],
            "needs_background": "light"
          }
        },
        {
          "output_type": "stream",
          "text": [
            "The PostScript backend does not support transparency; partially transparent artists will be rendered opaque.\n",
            "The PostScript backend does not support transparency; partially transparent artists will be rendered opaque.\n"
          ],
          "name": "stderr"
        },
        {
          "output_type": "display_data",
          "data": {
            "image/png": "[encoded data removed]",
            "text/plain": [
              "<Figure size 288x230.4 with 1 Axes>"
            ]
          },
          "metadata": {
            "tags": [],
            "needs_background": "light"
          }
        }
      ]
    },
    {
      "cell_type": "markdown",
      "metadata": {
        "id": "5sAryRKwgRGi",
        "colab_type": "text"
      },
      "source": [
        "### 2.1. Constructing transfer sets\n",
        "The chosen dataset to construct the transfer set in the original code is ImageNet, we have attempted to download it from the official website but our request to the organization is still pending. So we decided to use a part of the OpenImages dataset (only 58GB which is around 160k images). \n",
        "\n",
        "Handling the OpenImages dataset was not included in the project code so we added the necessary modifications for the purpose.\n",
        "\n",
        "Then we executed this command to query 80k images from the dataset to the victim model with a random policy.\n",
        "\n",
        "```\n",
        "# Format\n",
        "$ python -m \"knockoff.adversary.transfer\" random models/victim/VIC_DIR \\\n",
        "        --out_dir models/adversary/ADV_DIR --budget BUDGET \\\n",
        "        --queryset QUERY_SET --batch_size 8 -d DEV_ID\n",
        "# where QUERY_SET = {ImageNet1k , OpenImages...}\n",
        "\n",
        "# We run this command\n",
        "$ python3 -m \"knockoff.adversary.transfer\" random models/victim/cubs200-resnet18 \\\n",
        "        --out_dir models/adversary/cubs200-resnet18-random --budget 80000 \\\n",
        "        --queryset OpenImages --batch_size 8 -d 0\n",
        "```\n",
        "We obtained as output after 1 hour and 51 minutes (we added the file to the github repository in the folder ./files/adversary/cubs200-resnet18-random):\n",
        "```\n",
        "=> done loading OpenImages (train) with 160000 examples\n",
        "=> loading checkpoint 'models/victim/cubs200-resnet18/checkpoint.pth.tar'\n",
        "=> loaded checkpoint (epoch 9, acc=55.52)\n",
        "=> constructing transfer set...\n",
        "100%|███████████████████████████████████| 80000/80000 [1:51:36<00:00, 17.40it/s]\n",
        "=> transfer set (80000 samples) written to: models/adversary/cubs200-resnet18-random/transferset.pickle\n",
        "```"
      ]
    },
    {
      "cell_type": "code",
      "metadata": {
        "id": "4r6dKFlxpjg8",
        "colab_type": "code",
        "colab": {}
      },
      "source": [
        "transferset = pd.read_pickle(PATH+\"transferset.pickle\")"
      ],
      "execution_count": 0,
      "outputs": []
    },
    {
      "cell_type": "code",
      "metadata": {
        "id": "Cd6yJUlsAKbm",
        "colab_type": "code",
        "colab": {
          "base_uri": "https://localhost:8080/",
          "height": 1000
        },
        "outputId": "929e6c70-fce0-46e7-efce-52d6bea718e3"
      },
      "source": [
        "import numpy as np\n",
        "# read classes\n",
        "classes = pd.read_csv(PATH+\"classes.txt\",sep=' ',names=['label'], index_col=0)\n",
        "merge = np.array([])\n",
        "\n",
        "\n",
        "# example of an element from the transferset\n",
        "print(transferset[0])\n",
        "\n",
        "# examples to choose\n",
        "examples= []\n",
        "for i in range(200):\n",
        "  maxpred= np.max(np.array(transferset[i][1]))\n",
        "  examples.append(maxpred)\n",
        "top_predictions = np.array(examples)\n",
        "idx_examples = (-top_predictions).argsort()[:5]\n",
        "print('indexes: ', idx_examples)\n",
        "print('top predictions:', top_predictions[idx_examples])\n",
        "\n",
        "\n",
        "print(\"\\n4 Examples of images with their top 3 lables:\")\n",
        "\n",
        "for x in idx_examples:\n",
        "  i = int(x)\n",
        "  print(\"\\nExample #\",i)\n",
        "  print(\"image path:\"+str(transferset[i][0]))\n",
        "  predictions = np.array(transferset[i][1])\n",
        "  idx = (-predictions).argsort()[:4]\n",
        "  idx = idx[idx != 0]\n",
        "  print('indexes: ', idx)\n",
        "  print('predictions:', predictions[idx])\n",
        "  print(classes.loc[idx,['label']])\n",
        "\n"
      ],
      "execution_count": 176,
      "outputs": [
        {
          "output_type": "stream",
          "text": [
            "('/media/kacem/2E86F7E186F7A80B/Users/KACEM/Desktop/KACEM/PolyMt/hiver20/INF8225/projet/forks/knockoffnets/knockoff/datasets/openImages/openimages/f7bc2ad84474c7ad.jpg', tensor([6.1574e-04, 9.2191e-05, 8.2578e-05, 6.2094e-02, 6.5492e-06, 6.5040e-05,\n",
            "        6.0312e-06, 6.8441e-05, 1.4557e-02, 4.3083e-03, 1.3109e-02, 7.2825e-03,\n",
            "        3.4376e-04, 3.6292e-05, 1.8468e-04, 1.7720e-05, 3.3460e-04, 3.1850e-04,\n",
            "        3.1472e-04, 3.2857e-04, 2.0242e-04, 3.9368e-04, 8.8079e-03, 3.3653e-04,\n",
            "        7.7875e-04, 1.0358e-02, 3.4384e-03, 3.3639e-05, 2.1800e-02, 1.2728e-02,\n",
            "        3.5984e-05, 1.1218e-04, 2.4604e-04, 1.1521e-02, 9.8124e-05, 5.5131e-03,\n",
            "        9.7499e-06, 1.1501e-03, 8.0259e-06, 3.2196e-05, 7.6638e-04, 3.1307e-03,\n",
            "        2.0702e-05, 3.1769e-05, 6.7404e-06, 5.3036e-03, 5.0345e-04, 2.8303e-03,\n",
            "        2.9574e-03, 1.2044e-04, 5.0459e-04, 1.1939e-03, 2.4962e-04, 1.1548e-03,\n",
            "        2.7466e-03, 3.7861e-05, 2.1143e-05, 2.9952e-04, 1.9919e-03, 5.1227e-05,\n",
            "        1.2916e-02, 3.0619e-04, 1.3093e-03, 1.4150e-03, 8.6527e-05, 2.0472e-03,\n",
            "        6.1370e-04, 1.8491e-05, 9.1688e-06, 2.3645e-05, 3.0544e-02, 1.5815e-04,\n",
            "        7.3211e-05, 1.8978e-02, 3.9466e-04, 2.1644e-03, 1.4590e-04, 4.2875e-04,\n",
            "        4.8118e-04, 1.6682e-04, 1.7156e-03, 9.7033e-04, 3.6618e-04, 5.3646e-07,\n",
            "        4.9213e-03, 5.1410e-03, 1.9375e-03, 4.6337e-03, 8.8594e-05, 3.8459e-04,\n",
            "        5.6877e-04, 8.0917e-03, 4.4907e-04, 5.8482e-05, 9.5483e-05, 9.6219e-05,\n",
            "        4.7371e-03, 2.3158e-03, 3.1034e-05, 9.4084e-02, 2.1394e-05, 1.6330e-04,\n",
            "        7.1524e-03, 3.3988e-03, 1.9165e-02, 7.9889e-06, 6.6362e-03, 1.7874e-03,\n",
            "        1.0044e-04, 2.2221e-01, 9.2708e-03, 1.3238e-03, 8.8790e-04, 1.7565e-03,\n",
            "        2.6182e-03, 1.4438e-02, 3.4808e-04, 3.4858e-03, 3.5938e-04, 2.9972e-04,\n",
            "        1.1273e-03, 6.7262e-04, 1.7646e-04, 4.9752e-04, 1.6669e-03, 5.6120e-05,\n",
            "        2.9550e-03, 1.8817e-02, 3.5884e-03, 4.2228e-03, 1.6151e-02, 8.1572e-05,\n",
            "        1.1544e-04, 1.8470e-03, 7.9833e-03, 1.7641e-03, 1.3505e-02, 1.4409e-03,\n",
            "        4.4418e-05, 7.8043e-06, 2.3298e-05, 4.6644e-04, 2.6082e-03, 8.3571e-04,\n",
            "        2.4460e-04, 1.3504e-04, 6.7597e-03, 3.7608e-02, 3.0266e-03, 4.6296e-03,\n",
            "        8.8863e-05, 1.4759e-05, 1.3363e-05, 8.3353e-06, 5.8296e-05, 1.5883e-05,\n",
            "        5.0106e-06, 9.7289e-06, 8.2601e-05, 5.5886e-05, 6.6527e-05, 1.9231e-04,\n",
            "        3.9839e-05, 5.4244e-05, 3.8353e-05, 7.7880e-05, 4.5294e-05, 1.9716e-05,\n",
            "        6.2640e-05, 6.3837e-05, 5.7154e-04, 2.0938e-05, 5.2461e-04, 9.1744e-03,\n",
            "        1.1886e-04, 8.7713e-05, 1.1715e-05, 3.5541e-05, 2.4997e-05, 2.3060e-05,\n",
            "        4.6319e-06, 2.1803e-04, 5.4113e-05, 7.9997e-05, 7.0081e-05, 6.0629e-04,\n",
            "        1.7691e-04, 1.3853e-04, 8.4120e-04, 1.0077e-04, 1.8552e-04, 1.0070e-04,\n",
            "        1.6713e-03, 1.3655e-01, 1.0398e-03, 3.6742e-05, 4.4820e-04, 5.2851e-03,\n",
            "        3.5983e-03, 3.8144e-05]))\n",
            "indexes:  [116 119 149 153 162]\n",
            "top predictions: [0.9282319  0.88532466 0.8798611  0.8766797  0.86555827]\n",
            "\n",
            "4 Examples of images with their top 3 lables:\n",
            "\n",
            "Example # 116\n",
            "image path:/media/kacem/2E86F7E186F7A80B/Users/KACEM/Desktop/KACEM/PolyMt/hiver20/INF8225/projet/forks/knockoffnets/knockoff/datasets/openImages/openimages/edc0e8f0d0c95c87.jpg\n",
            "indexes:  [194  51 136]\n",
            "predictions: [0.9282319  0.00845219 0.00471866]\n",
            "                label\n",
            "194   194.Cactus_Wren\n",
            "51   051.Horned_Grebe\n",
            "136  136.Barn_Swallow\n",
            "\n",
            "Example # 119\n",
            "image path:/media/kacem/2E86F7E186F7A80B/Users/KACEM/Desktop/KACEM/PolyMt/hiver20/INF8225/projet/forks/knockoffnets/knockoff/datasets/openImages/openimages/dfc3be1ae7352fa4.jpg\n",
            "indexes:  [ 67  16 140  66]\n",
            "predictions: [0.88532466 0.07235625 0.00786515 0.00465651]\n",
            "                    label\n",
            "67   067.Anna_Hummingbird\n",
            "16    016.Painted_Bunting\n",
            "140    140.Summer_Tanager\n",
            "66       066.Western_Gull\n",
            "\n",
            "Example # 149\n",
            "image path:/media/kacem/2E86F7E186F7A80B/Users/KACEM/Desktop/KACEM/PolyMt/hiver20/INF8225/projet/forks/knockoffnets/knockoff/datasets/openImages/openimages/f898519cad3c62a9.jpg\n",
            "indexes:  [45 51 85 88]\n",
            "predictions: [0.8798611  0.03278117 0.01719078 0.01042067]\n",
            "                     label\n",
            "45     045.Northern_Fulmar\n",
            "51        051.Horned_Grebe\n",
            "85         085.Horned_Lark\n",
            "88  088.Western_Meadowlark\n",
            "\n",
            "Example # 153\n",
            "image path:/media/kacem/2E86F7E186F7A80B/Users/KACEM/Desktop/KACEM/PolyMt/hiver20/INF8225/projet/forks/knockoffnets/knockoff/datasets/openImages/openimages/f86639f4e11b3565.jpg\n",
            "indexes:  [ 85 194  45  86]\n",
            "predictions: [0.8766797  0.04160874 0.02221891 0.01993268]\n",
            "                   label\n",
            "85       085.Horned_Lark\n",
            "194      194.Cactus_Wren\n",
            "45   045.Northern_Fulmar\n",
            "86      086.Pacific_Loon\n",
            "\n",
            "Example # 162\n",
            "image path:/media/kacem/2E86F7E186F7A80B/Users/KACEM/Desktop/KACEM/PolyMt/hiver20/INF8225/projet/forks/knockoffnets/knockoff/datasets/openImages/openimages/e06eabe8a7cce058.jpg\n",
            "indexes:  [194  86 148  81]\n",
            "predictions: [0.86555827 0.02466273 0.02077862 0.01628894]\n",
            "                       label\n",
            "194          194.Cactus_Wren\n",
            "86          086.Pacific_Loon\n",
            "148  148.Green_tailed_Towhee\n",
            "81       081.Pied_Kingfisher\n"
          ],
          "name": "stdout"
        }
      ]
    },
    {
      "cell_type": "code",
      "metadata": {
        "id": "l2KUYQxdC7yg",
        "colab_type": "code",
        "colab": {}
      },
      "source": [
        ""
      ],
      "execution_count": 0,
      "outputs": []
    },
    {
      "cell_type": "markdown",
      "metadata": {
        "id": "jrDbCsYYpkTt",
        "colab_type": "text"
      },
      "source": [
        "\n",
        "### 2.2. Training the Knockoff model\n",
        "The obtained transfer set will serve as a dataset to train a knockoff model, here we decided to train the model on an architecture different that the victim which had ResNet-18, so we chose ResNet-34.\n",
        "\n",
        "We tried to train on different architectures like Inception, DenseNet and AlexNet, but the pytorch implementation of the project was not able to finish because of lack of GPU memory. After debugging efforts, these issues need **major code refactoring**. This may be explained by the last update made by the authors on the pytorch version of the code which caused these bugs that will require more handling.\n",
        "\n",
        "\n",
        "```\n",
        "# Format:\n",
        "$ python -m \"knockoff.adversary.train\" models/adversary/ADV_DIR ARCH DS_NAME \\\n",
        "        --budgets BUDGET1,BUDGET2,.. -d DEV_ID --pretrained --epochs EPOCHS \\\n",
        "        --lr LR\n",
        "# DS_NAME refers to the dataset used to train victim model; used only to evaluate on test set during training of knockoff\n",
        "\n",
        "\n",
        "# We run this command\n",
        "$ python3 -m \"knockoff.adversary.train\" models/adversary/cubs200-resnet18-random \\\n",
        "        resnet34 CUBS200 --budgets 80000 -d 0 --pretrained imagenet \\\n",
        "        --log-interval 100 --epochs 10 --lr 0.01 \n",
        "```\n"
      ]
    },
    {
      "cell_type": "code",
      "metadata": {
        "id": "XAIAAHkEpnDq",
        "colab_type": "code",
        "colab": {}
      },
      "source": [
        "PATH = \"drive/My Drive/1 Polymtl/Hiv20/INF8225/Project/\" # changer le path avec votre path\n",
        "logs_adv = pd.read_csv(PATH + \"train.80000.log.tsv\", sep='\\t')\n",
        "train_logs_adv = logs_adv.loc[logs_adv['split']=='train'].reset_index(drop=True)\n",
        "test_logs_adv = logs_adv.loc[logs_adv['split']=='test'].reset_index(drop=True)"
      ],
      "execution_count": 0,
      "outputs": []
    },
    {
      "cell_type": "code",
      "metadata": {
        "id": "RUhDE3pPp3iL",
        "colab_type": "code",
        "colab": {
          "base_uri": "https://localhost:8080/",
          "height": 359
        },
        "outputId": "266607fc-4657-46e3-cac2-bc2786f3866d"
      },
      "source": [
        "train_logs_adv"
      ],
      "execution_count": 178,
      "outputs": [
        {
          "output_type": "execute_result",
          "data": {
            "text/html": [
              "<div>\n",
              "<style scoped>\n",
              "    .dataframe tbody tr th:only-of-type {\n",
              "        vertical-align: middle;\n",
              "    }\n",
              "\n",
              "    .dataframe tbody tr th {\n",
              "        vertical-align: top;\n",
              "    }\n",
              "\n",
              "    .dataframe thead th {\n",
              "        text-align: right;\n",
              "    }\n",
              "</style>\n",
              "<table border=\"1\" class=\"dataframe\">\n",
              "  <thead>\n",
              "    <tr style=\"text-align: right;\">\n",
              "      <th></th>\n",
              "      <th>run_id</th>\n",
              "      <th>epoch</th>\n",
              "      <th>split</th>\n",
              "      <th>loss</th>\n",
              "      <th>accuracy</th>\n",
              "      <th>best_accuracy</th>\n",
              "    </tr>\n",
              "  </thead>\n",
              "  <tbody>\n",
              "    <tr>\n",
              "      <th>0</th>\n",
              "      <td>2020-04-26 17:46:35.749177</td>\n",
              "      <td>1</td>\n",
              "      <td>train</td>\n",
              "      <td>0.060917</td>\n",
              "      <td>35.35500</td>\n",
              "      <td>35.35500</td>\n",
              "    </tr>\n",
              "    <tr>\n",
              "      <th>1</th>\n",
              "      <td>2020-04-26 17:46:35.749177</td>\n",
              "      <td>2</td>\n",
              "      <td>train</td>\n",
              "      <td>0.055538</td>\n",
              "      <td>46.47875</td>\n",
              "      <td>46.47875</td>\n",
              "    </tr>\n",
              "    <tr>\n",
              "      <th>2</th>\n",
              "      <td>2020-04-26 17:46:35.749177</td>\n",
              "      <td>3</td>\n",
              "      <td>train</td>\n",
              "      <td>0.053972</td>\n",
              "      <td>51.15625</td>\n",
              "      <td>51.15625</td>\n",
              "    </tr>\n",
              "    <tr>\n",
              "      <th>3</th>\n",
              "      <td>2020-04-26 17:46:35.749177</td>\n",
              "      <td>4</td>\n",
              "      <td>train</td>\n",
              "      <td>0.053116</td>\n",
              "      <td>54.14250</td>\n",
              "      <td>54.14250</td>\n",
              "    </tr>\n",
              "    <tr>\n",
              "      <th>4</th>\n",
              "      <td>2020-04-26 17:46:35.749177</td>\n",
              "      <td>5</td>\n",
              "      <td>train</td>\n",
              "      <td>0.052527</td>\n",
              "      <td>56.38000</td>\n",
              "      <td>56.38000</td>\n",
              "    </tr>\n",
              "    <tr>\n",
              "      <th>5</th>\n",
              "      <td>2020-04-26 17:46:35.749177</td>\n",
              "      <td>6</td>\n",
              "      <td>train</td>\n",
              "      <td>0.052063</td>\n",
              "      <td>58.30000</td>\n",
              "      <td>58.30000</td>\n",
              "    </tr>\n",
              "    <tr>\n",
              "      <th>6</th>\n",
              "      <td>2020-04-26 17:46:35.749177</td>\n",
              "      <td>7</td>\n",
              "      <td>train</td>\n",
              "      <td>0.051705</td>\n",
              "      <td>60.00750</td>\n",
              "      <td>60.00750</td>\n",
              "    </tr>\n",
              "    <tr>\n",
              "      <th>7</th>\n",
              "      <td>2020-04-26 17:46:35.749177</td>\n",
              "      <td>8</td>\n",
              "      <td>train</td>\n",
              "      <td>0.051415</td>\n",
              "      <td>61.54125</td>\n",
              "      <td>61.54125</td>\n",
              "    </tr>\n",
              "    <tr>\n",
              "      <th>8</th>\n",
              "      <td>2020-04-26 17:46:35.749177</td>\n",
              "      <td>9</td>\n",
              "      <td>train</td>\n",
              "      <td>0.051175</td>\n",
              "      <td>62.78375</td>\n",
              "      <td>62.78375</td>\n",
              "    </tr>\n",
              "    <tr>\n",
              "      <th>9</th>\n",
              "      <td>2020-04-26 17:46:35.749177</td>\n",
              "      <td>10</td>\n",
              "      <td>train</td>\n",
              "      <td>0.050957</td>\n",
              "      <td>63.94750</td>\n",
              "      <td>63.94750</td>\n",
              "    </tr>\n",
              "  </tbody>\n",
              "</table>\n",
              "</div>"
            ],
            "text/plain": [
              "                       run_id  epoch  split      loss  accuracy  best_accuracy\n",
              "0  2020-04-26 17:46:35.749177      1  train  0.060917  35.35500       35.35500\n",
              "1  2020-04-26 17:46:35.749177      2  train  0.055538  46.47875       46.47875\n",
              "2  2020-04-26 17:46:35.749177      3  train  0.053972  51.15625       51.15625\n",
              "3  2020-04-26 17:46:35.749177      4  train  0.053116  54.14250       54.14250\n",
              "4  2020-04-26 17:46:35.749177      5  train  0.052527  56.38000       56.38000\n",
              "5  2020-04-26 17:46:35.749177      6  train  0.052063  58.30000       58.30000\n",
              "6  2020-04-26 17:46:35.749177      7  train  0.051705  60.00750       60.00750\n",
              "7  2020-04-26 17:46:35.749177      8  train  0.051415  61.54125       61.54125\n",
              "8  2020-04-26 17:46:35.749177      9  train  0.051175  62.78375       62.78375\n",
              "9  2020-04-26 17:46:35.749177     10  train  0.050957  63.94750       63.94750"
            ]
          },
          "metadata": {
            "tags": []
          },
          "execution_count": 178
        }
      ]
    },
    {
      "cell_type": "code",
      "metadata": {
        "id": "e0RYViivp3vk",
        "colab_type": "code",
        "colab": {
          "base_uri": "https://localhost:8080/",
          "height": 359
        },
        "outputId": "fb0e0b6d-fcdc-4730-9cce-b8f3ae19e90f"
      },
      "source": [
        "test_logs_adv"
      ],
      "execution_count": 179,
      "outputs": [
        {
          "output_type": "execute_result",
          "data": {
            "text/html": [
              "<div>\n",
              "<style scoped>\n",
              "    .dataframe tbody tr th:only-of-type {\n",
              "        vertical-align: middle;\n",
              "    }\n",
              "\n",
              "    .dataframe tbody tr th {\n",
              "        vertical-align: top;\n",
              "    }\n",
              "\n",
              "    .dataframe thead th {\n",
              "        text-align: right;\n",
              "    }\n",
              "</style>\n",
              "<table border=\"1\" class=\"dataframe\">\n",
              "  <thead>\n",
              "    <tr style=\"text-align: right;\">\n",
              "      <th></th>\n",
              "      <th>run_id</th>\n",
              "      <th>epoch</th>\n",
              "      <th>split</th>\n",
              "      <th>loss</th>\n",
              "      <th>accuracy</th>\n",
              "      <th>best_accuracy</th>\n",
              "    </tr>\n",
              "  </thead>\n",
              "  <tbody>\n",
              "    <tr>\n",
              "      <th>0</th>\n",
              "      <td>2020-04-26 17:46:35.749177</td>\n",
              "      <td>1</td>\n",
              "      <td>test</td>\n",
              "      <td>0.074251</td>\n",
              "      <td>11.097687</td>\n",
              "      <td>11.097687</td>\n",
              "    </tr>\n",
              "    <tr>\n",
              "      <th>1</th>\n",
              "      <td>2020-04-26 17:46:35.749177</td>\n",
              "      <td>2</td>\n",
              "      <td>test</td>\n",
              "      <td>0.063751</td>\n",
              "      <td>18.967898</td>\n",
              "      <td>18.967898</td>\n",
              "    </tr>\n",
              "    <tr>\n",
              "      <th>2</th>\n",
              "      <td>2020-04-26 17:46:35.749177</td>\n",
              "      <td>3</td>\n",
              "      <td>test</td>\n",
              "      <td>0.058677</td>\n",
              "      <td>22.540559</td>\n",
              "      <td>22.540559</td>\n",
              "    </tr>\n",
              "    <tr>\n",
              "      <th>3</th>\n",
              "      <td>2020-04-26 17:46:35.749177</td>\n",
              "      <td>4</td>\n",
              "      <td>test</td>\n",
              "      <td>0.055457</td>\n",
              "      <td>24.197446</td>\n",
              "      <td>24.197446</td>\n",
              "    </tr>\n",
              "    <tr>\n",
              "      <th>4</th>\n",
              "      <td>2020-04-26 17:46:35.749177</td>\n",
              "      <td>5</td>\n",
              "      <td>test</td>\n",
              "      <td>0.052155</td>\n",
              "      <td>27.217812</td>\n",
              "      <td>27.217812</td>\n",
              "    </tr>\n",
              "    <tr>\n",
              "      <th>5</th>\n",
              "      <td>2020-04-26 17:46:35.749177</td>\n",
              "      <td>6</td>\n",
              "      <td>test</td>\n",
              "      <td>0.050352</td>\n",
              "      <td>28.477736</td>\n",
              "      <td>28.477736</td>\n",
              "    </tr>\n",
              "    <tr>\n",
              "      <th>6</th>\n",
              "      <td>2020-04-26 17:46:35.749177</td>\n",
              "      <td>7</td>\n",
              "      <td>test</td>\n",
              "      <td>0.048844</td>\n",
              "      <td>30.048326</td>\n",
              "      <td>30.048326</td>\n",
              "    </tr>\n",
              "    <tr>\n",
              "      <th>7</th>\n",
              "      <td>2020-04-26 17:46:35.749177</td>\n",
              "      <td>8</td>\n",
              "      <td>test</td>\n",
              "      <td>0.046681</td>\n",
              "      <td>31.256472</td>\n",
              "      <td>31.256472</td>\n",
              "    </tr>\n",
              "    <tr>\n",
              "      <th>8</th>\n",
              "      <td>2020-04-26 17:46:35.749177</td>\n",
              "      <td>9</td>\n",
              "      <td>test</td>\n",
              "      <td>0.045904</td>\n",
              "      <td>31.998619</td>\n",
              "      <td>31.998619</td>\n",
              "    </tr>\n",
              "    <tr>\n",
              "      <th>9</th>\n",
              "      <td>2020-04-26 17:46:35.749177</td>\n",
              "      <td>10</td>\n",
              "      <td>test</td>\n",
              "      <td>0.044576</td>\n",
              "      <td>33.344839</td>\n",
              "      <td>33.344839</td>\n",
              "    </tr>\n",
              "  </tbody>\n",
              "</table>\n",
              "</div>"
            ],
            "text/plain": [
              "                       run_id  epoch split      loss   accuracy  best_accuracy\n",
              "0  2020-04-26 17:46:35.749177      1  test  0.074251  11.097687      11.097687\n",
              "1  2020-04-26 17:46:35.749177      2  test  0.063751  18.967898      18.967898\n",
              "2  2020-04-26 17:46:35.749177      3  test  0.058677  22.540559      22.540559\n",
              "3  2020-04-26 17:46:35.749177      4  test  0.055457  24.197446      24.197446\n",
              "4  2020-04-26 17:46:35.749177      5  test  0.052155  27.217812      27.217812\n",
              "5  2020-04-26 17:46:35.749177      6  test  0.050352  28.477736      28.477736\n",
              "6  2020-04-26 17:46:35.749177      7  test  0.048844  30.048326      30.048326\n",
              "7  2020-04-26 17:46:35.749177      8  test  0.046681  31.256472      31.256472\n",
              "8  2020-04-26 17:46:35.749177      9  test  0.045904  31.998619      31.998619\n",
              "9  2020-04-26 17:46:35.749177     10  test  0.044576  33.344839      33.344839"
            ]
          },
          "metadata": {
            "tags": []
          },
          "execution_count": 179
        }
      ]
    },
    {
      "cell_type": "code",
      "metadata": {
        "id": "UPdGChK_qId-",
        "colab_type": "code",
        "colab": {
          "base_uri": "https://localhost:8080/",
          "height": 521
        },
        "outputId": "51febc8f-f5ba-403e-dd5d-d2ac0c88c5f7"
      },
      "source": [
        "# collect and plot the losses for the training and test sets\n",
        "accuracy_adv = train_logs_adv['accuracy']\n",
        "loss_adv = train_logs_adv[ 'loss']\n",
        "test_accuracy_adv = test_logs_adv['accuracy']\n",
        "test_loss_adv = test_logs_adv['loss']\n",
        "epoch = train_logs_adv['epoch']\n",
        "\n",
        "plt.figure(figsize=(4, 3.2))\n",
        "plt.plot(loss_adv, label=\"train on OpenImages Transferset\")\n",
        "plt.plot(test_loss_adv, label=\"test on CUBS200\")\n",
        "plt.title('Training curve Loss / Epochs')\n",
        "plt.ylabel('Negative Likelihood Loss')\n",
        "plt.xlabel('Epoch')\n",
        "plt.legend(loc='best')\n",
        "plt.show()\n",
        "\n",
        "plt.figure(figsize=(4, 3.2))\n",
        "plt.plot(epoch,accuracy_adv, label=\"train on OpenImages Transferset\")\n",
        "plt.plot(epoch,test_accuracy_adv, label=\"test on CUBS200\")\n",
        "plt.title('Training curve Accuracy / Epochs')\n",
        "plt.ylabel('Accuracy')\n",
        "plt.xlabel('Epoch')\n",
        "plt.xticks(epoch)\n",
        "plt.legend(loc='best')\n",
        "plt.grid(b=True, which='major', color='#666666', linestyle='dashed')\n",
        "plt.minorticks_on()\n",
        "plt.grid(b=True, which='minor', color='#999999', linestyle='dashed',axis='y')\n",
        "plt.savefig(PATH+\"knockoff-resnet-18.eps\",format=\"eps\")\n",
        "plt.show()"
      ],
      "execution_count": 180,
      "outputs": [
        {
          "output_type": "display_data",
          "data": {
            "image/png": "[encoded data removed]",
            "text/plain": [
              "<Figure size 288x230.4 with 1 Axes>"
            ]
          },
          "metadata": {
            "tags": [],
            "needs_background": "light"
          }
        },
        {
          "output_type": "stream",
          "text": [
            "The PostScript backend does not support transparency; partially transparent artists will be rendered opaque.\n",
            "The PostScript backend does not support transparency; partially transparent artists will be rendered opaque.\n"
          ],
          "name": "stderr"
        },
        {
          "output_type": "display_data",
          "data": {
            "image/png": "[encoded data removed]",
            "text/plain": [
              "<Figure size 288x230.4 with 1 Axes>"
            ]
          },
          "metadata": {
            "tags": [],
            "needs_background": "light"
          }
        }
      ]
    },
    {
      "cell_type": "code",
      "metadata": {
        "id": "q2XLpMFKsTiF",
        "colab_type": "code",
        "colab": {
          "base_uri": "https://localhost:8080/",
          "height": 555
        },
        "outputId": "f54a06f5-3b62-4955-b58e-40b57780aac2"
      },
      "source": [
        "plt.figure(figsize=(4, 3.2))\n",
        "plt.plot(epoch,test_accuracy, label=\"Victim test on CUBS200\")\n",
        "plt.plot(epoch,test_accuracy_adv, label=\"Knockoff test on CUBS200\")\n",
        "plt.title('Testing curve Accuracy / Epochs')\n",
        "plt.ylabel('Accuracy')\n",
        "plt.xlabel('Epoch')\n",
        "plt.xticks(epoch)\n",
        "plt.legend(loc='best')\n",
        "plt.grid(b=True, which='major', color='#666666', linestyle='dashed')\n",
        "plt.minorticks_on()\n",
        "plt.grid(b=True, which='minor', color='#999999', linestyle='dashed',axis='y')\n",
        "plt.savefig(PATH+\"victim-knockoff-test-resnet-18.eps\",format=\"eps\")\n",
        "plt.show()\n",
        "\n",
        "plt.figure(figsize=(4, 3.2))\n",
        "plt.plot(epoch,accuracy, label=\"Victim train on CUBS200\")\n",
        "plt.plot(epoch,accuracy_adv, label=\"Knockoff train on transferset\")\n",
        "plt.title('Training curve Accuracy / Epochs')\n",
        "plt.ylabel('Accuracy')\n",
        "plt.xlabel('Epoch')\n",
        "plt.xticks(epoch)\n",
        "plt.legend(loc='best')\n",
        "plt.grid(b=True, which='major', color='#666666', linestyle='dashed')\n",
        "plt.minorticks_on()\n",
        "plt.grid(b=True, which='minor', color='#999999', linestyle='dashed',axis='y')\n",
        "plt.savefig(PATH+\"victim-knockoff-train-resnet-18.eps\",format=\"eps\")\n",
        "plt.show()"
      ],
      "execution_count": 181,
      "outputs": [
        {
          "output_type": "stream",
          "text": [
            "The PostScript backend does not support transparency; partially transparent artists will be rendered opaque.\n",
            "The PostScript backend does not support transparency; partially transparent artists will be rendered opaque.\n"
          ],
          "name": "stderr"
        },
        {
          "output_type": "display_data",
          "data": {
            "image/png": "[encoded data removed]",
            "text/plain": [
              "<Figure size 288x230.4 with 1 Axes>"
            ]
          },
          "metadata": {
            "tags": [],
            "needs_background": "light"
          }
        },
        {
          "output_type": "stream",
          "text": [
            "The PostScript backend does not support transparency; partially transparent artists will be rendered opaque.\n",
            "The PostScript backend does not support transparency; partially transparent artists will be rendered opaque.\n"
          ],
          "name": "stderr"
        },
        {
          "output_type": "display_data",
          "data": {
            "image/png": "[encoded data removed]",
            "text/plain": [
              "<Figure size 288x230.4 with 1 Axes>"
            ]
          },
          "metadata": {
            "tags": [],
            "needs_background": "light"
          }
        }
      ]
    },
    {
      "cell_type": "markdown",
      "metadata": {
        "id": "1hmG1EGPAYzD",
        "colab_type": "text"
      },
      "source": [
        "# Reproduction of the KnockoffNets attack using Adversarial Robustness Toolbox\n",
        "\n",
        "After forking the library from https://github.com/IBM/adversarial-robustness-toolbox/  and setting up the GPU environment, the next step is installing ART with the following command from the project folder adversarial-robustness-toolbox:\n",
        "\n",
        "```\n",
        "pip install .\n",
        "```\n",
        "The files **knockoff_nets.py** and **test_knockoff_nets.py** are our focus in order to reproduce the results. It would be better to use PyCharm, since the files are divided into cells that you can run seperately.\n",
        "\n",
        "We performed two attacks: one against a model trained on MNIST dataset and the other against a model trained on IRIS dataset.\n"
      ]
    }
  ]
}